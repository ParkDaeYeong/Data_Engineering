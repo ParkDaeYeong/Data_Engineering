{
 "cells": [
  {
   "cell_type": "code",
   "execution_count": 50,
   "id": "6aa07ab2",
   "metadata": {},
   "outputs": [],
   "source": [
    "#hairstyles\n",
    "hairstyles = [\"bouffant\", \"pixie\", \"dreadlocks\", \"crew\", \"bowl\", \"bob\", \"mohawk\", \"flattop\"]"
   ]
  },
  {
   "cell_type": "code",
   "execution_count": 51,
   "id": "872f07f3",
   "metadata": {},
   "outputs": [],
   "source": [
    "#prices\n",
    "prices = [30, 25, 40, 20, 20, 35, 50, 35]"
   ]
  },
  {
   "cell_type": "code",
   "execution_count": 52,
   "id": "9a10a6a1",
   "metadata": {},
   "outputs": [],
   "source": [
    "#last_week\n",
    "last_week = [2, 3, 5, 8, 4, 4, 6, 2]"
   ]
  },
  {
   "cell_type": "code",
   "execution_count": 53,
   "id": "3b307b25",
   "metadata": {},
   "outputs": [],
   "source": [
    "#total_prices\n",
    "total_price = 0"
   ]
  },
  {
   "cell_type": "code",
   "execution_count": 54,
   "id": "f6e3ed5d",
   "metadata": {},
   "outputs": [],
   "source": [
    "#prices 합계\n",
    "for sum in prices:\n",
    "    total_price += sum"
   ]
  },
  {
   "cell_type": "code",
   "execution_count": 55,
   "id": "f8246041",
   "metadata": {},
   "outputs": [
    {
     "name": "stdout",
     "output_type": "stream",
     "text": [
      "Average price is  31.875\n"
     ]
    }
   ],
   "source": [
    "#prices 평균\n",
    "average_price = total_price/len(prices)\n",
    "print(\"Average price is \", average_price)"
   ]
  },
  {
   "cell_type": "code",
   "execution_count": 56,
   "id": "e3ab05e6",
   "metadata": {},
   "outputs": [
    {
     "name": "stdout",
     "output_type": "stream",
     "text": [
      "[25, 20, 35, 15, 15, 30, 45, 30]\n"
     ]
    }
   ],
   "source": [
    "#new_prices\n",
    "new_prices = [price-5 for price in prices]\n",
    "print(new_prices)"
   ]
  },
  {
   "cell_type": "code",
   "execution_count": 57,
   "id": "0297bfb3",
   "metadata": {},
   "outputs": [],
   "source": [
    "#total_revenue\n",
    "total_revenue = 0"
   ]
  },
  {
   "cell_type": "code",
   "execution_count": 58,
   "id": "09227586",
   "metadata": {},
   "outputs": [
    {
     "name": "stdout",
     "output_type": "stream",
     "text": [
      "1085\n"
     ]
    }
   ],
   "source": [
    "for i in range(len(hairstyles)):\n",
    "    total_revenue += prices[i]*last_week[i]\n",
    "print(total_revenue)"
   ]
  },
  {
   "cell_type": "code",
   "execution_count": 59,
   "id": "6533c303",
   "metadata": {},
   "outputs": [
    {
     "name": "stdout",
     "output_type": "stream",
     "text": [
      "155.0\n"
     ]
    }
   ],
   "source": [
    "#average_daily_revenue\n",
    "average_daily_revenue = total_revenue/7\n",
    "print(average_daily_revenue)"
   ]
  },
  {
   "cell_type": "code",
   "execution_count": 60,
   "id": "8cc2c7fe",
   "metadata": {},
   "outputs": [],
   "source": [
    "#cuts_under_30\n",
    "cuts_under_30 = [hairstyles[i] for i in range(len(new_prices) - 1) if new_prices[i]<30]"
   ]
  },
  {
   "cell_type": "code",
   "execution_count": 61,
   "id": "406ab0d3",
   "metadata": {},
   "outputs": [
    {
     "name": "stdout",
     "output_type": "stream",
     "text": [
      "['bouffant', 'pixie', 'crew', 'bowl']\n"
     ]
    }
   ],
   "source": [
    "#결과 출력\n",
    "print(cuts_under_30)"
   ]
  }
 ],
 "metadata": {
  "kernelspec": {
   "display_name": "Python 3 (ipykernel)",
   "language": "python",
   "name": "python3"
  },
  "language_info": {
   "codemirror_mode": {
    "name": "ipython",
    "version": 3
   },
   "file_extension": ".py",
   "mimetype": "text/x-python",
   "name": "python",
   "nbconvert_exporter": "python",
   "pygments_lexer": "ipython3",
   "version": "3.11.4"
  }
 },
 "nbformat": 4,
 "nbformat_minor": 5
}
